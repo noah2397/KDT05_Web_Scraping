{
 "cells": [
  {
   "cell_type": "code",
   "execution_count": 97,
   "metadata": {},
   "outputs": [],
   "source": [
    "from bs4 import BeautifulSoup\n",
    "from urllib.request import urlopen\n",
    "\n",
    "url=\"https://forecast.weather.gov/MapClick.php?lat=37.7772&lon=-122.4168#.Yst5ji9yxTY\""
   ]
  },
  {
   "cell_type": "code",
   "execution_count": 98,
   "metadata": {},
   "outputs": [],
   "source": [
    "def scraping_use_find(html) :\n",
    "    bs=BeautifulSoup(html,\"html.parser\")\n",
    "    bs2=bs.find(\"main\", class_=\"container\")\n",
    "    bs3=bs2.find(\"div\", class_=\"contentArea\")\n",
    "    bs4=bs3.find(\"div\", id=\"seven-day-forecast\")\n",
    "    bs5=bs4.find(\"div\", class_=\"panel-body\")\n",
    "    bs6=bs5.find(\"div\", id=\"seven-day-forecast-container\")\n",
    "    bs7=bs6.find(\"ul\", id=\"seven-day-forecast-list\")\n",
    "    bs8=bs7.find_all(\"li\", class_=\"forecast-tombstone\")\n",
    "    print('''\n",
    "National Weather Service Scraping\n",
    "----------------------------------\n",
    "[find 함수 사용]''')\n",
    "    print(f\"총 tomestone-container 검색 개수 : {len(bs8)}\")\n",
    "    for i in range(0,10) :\n",
    "        print(\"----------------------------------------------------------------------------------\")\n",
    "        if i==9 :\n",
    "            break\n",
    "        sample=bs8[i].find(\"div\", class_ = \"tombstone-container\")\n",
    "        print(f'[Peroid] : {sample.find(\"p\", class_=\"period-name\").text}')\n",
    "        try :\n",
    "            print(f'[Short desc] : {sample.find(\"p\", class_=\"short-desc\").text}')\n",
    "        except AttributeError:\n",
    "            print(f'[Short desc] : No Information')\n",
    "        try : \n",
    "            print(f'[Temperature] : {sample.find(\"p\", class_=\"temp\").text}')\n",
    "        except AttributeError:\n",
    "            print(f'[Temperature] : No Information')\n",
    "        print(f'[Image desc] : {sample.find(\"img\", class_=\"forecast-icon\").get(\"title\")}')\n"
   ]
  },
  {
   "cell_type": "code",
   "execution_count": 99,
   "metadata": {},
   "outputs": [],
   "source": [
    "def scraping_use_select(html) :\n",
    "    br=BeautifulSoup(html,\"html.parser\")\n",
    "    br2=br.select_one(\"main.container > div.contentArea\")\n",
    "    br3=br2.select_one(\"div#seven-day-forecast > div#seven-day-forecast-body > div#seven-day-forecast-container > ul#seven-day-forecast-list\")\n",
    "    br4=br3.select(\"li.forecast-tombstone\")\n",
    "    print('''\n",
    "National Weather Service Scraping\n",
    "----------------------------------\n",
    "[select 함수 사용]''')\n",
    "    print(f\"총 tomestone-container 검색 개수 : {len(br4)}\")\n",
    "    for i in range(0,10) :\n",
    "        print(\"----------------------------------------------------------------------------------\")\n",
    "        if i==9 :\n",
    "            break\n",
    "        sample=br4[i].select_one(\"div.tombstone-container\")\n",
    "        print(f'[Peroid] : {sample.select_one(\"p.period-name\").text}')\n",
    "        try :\n",
    "            print(f'[Short desc] : {sample.select_one(\"p.short-desc\").text}')\n",
    "        except AttributeError:\n",
    "            print(f'[Short desc] : No Information')\n",
    "        try : \n",
    "            print(f'[Temperature] : {sample.select_one(\"p.temp\").text}')\n",
    "        except AttributeError:\n",
    "            print(f'[Temperature] : No Information')\n",
    "        print(f'[Image desc] : {sample.select_one(\"img.forecast-icon\").get(\"title\")}')\n"
   ]
  },
  {
   "cell_type": "code",
   "execution_count": 100,
   "metadata": {},
   "outputs": [
    {
     "name": "stdout",
     "output_type": "stream",
     "text": [
      "\n",
      "National Weather Service Scraping\n",
      "----------------------------------\n",
      "[select 함수 사용]\n",
      "총 tomestone-container 검색 개수 : 9\n",
      "----------------------------------------------------------------------------------\n",
      "[Peroid] : NOW until10:00am Sat\n",
      "[Short desc] : Coastal Flood Advisory\n",
      "[Temperature] : No Information\n",
      "[Image desc] : \n",
      "----------------------------------------------------------------------------------\n",
      "[Peroid] : Tonight\n",
      "[Short desc] : Rain\n",
      "[Temperature] : Low: 47 °F\n",
      "[Image desc] : Tonight: Rain after 5am.  Low around 47. West northwest wind around 11 mph.  Chance of precipitation is 80%.\n",
      "----------------------------------------------------------------------------------\n",
      "[Peroid] : Wednesday\n",
      "[Short desc] : Rain\n",
      "[Temperature] : High: 54 °F\n",
      "[Image desc] : Wednesday: Rain, mainly before 5pm.  High near 54. West northwest wind 9 to 18 mph becoming south southwest in the afternoon. Winds could gust as high as 22 mph.  Chance of precipitation is 80%. New precipitation amounts between a tenth and quarter of an inch possible. \n",
      "----------------------------------------------------------------------------------\n",
      "[Peroid] : WednesdayNight\n",
      "[Short desc] : Slight ChanceRain thenMostly Cloudy\n",
      "[Temperature] : Low: 45 °F\n",
      "[Image desc] : Wednesday Night: A 20 percent chance of rain before 11pm.  Mostly cloudy, with a low around 45. North wind 9 to 14 mph, with gusts as high as 18 mph.  New precipitation amounts of less than a tenth of an inch possible. \n",
      "----------------------------------------------------------------------------------\n",
      "[Peroid] : Thursday\n",
      "[Short desc] : Partly Sunny\n",
      "[Temperature] : High: 56 °F\n",
      "[Image desc] : Thursday: Partly sunny, with a high near 56. North wind 5 to 15 mph becoming west northwest in the afternoon. Winds could gust as high as 20 mph. \n",
      "----------------------------------------------------------------------------------\n",
      "[Peroid] : ThursdayNight\n",
      "[Short desc] : Partly Cloudy\n",
      "[Temperature] : Low: 44 °F\n",
      "[Image desc] : Thursday Night: Partly cloudy, with a low around 44. North wind 5 to 9 mph. \n",
      "----------------------------------------------------------------------------------\n",
      "[Peroid] : Friday\n",
      "[Short desc] : Mostly Sunny\n",
      "[Temperature] : High: 56 °F\n",
      "[Image desc] : Friday: Mostly sunny, with a high near 56.\n",
      "----------------------------------------------------------------------------------\n",
      "[Peroid] : FridayNight\n",
      "[Short desc] : Partly Cloudy\n",
      "[Temperature] : Low: 44 °F\n",
      "[Image desc] : Friday Night: Partly cloudy, with a low around 44.\n",
      "----------------------------------------------------------------------------------\n",
      "[Peroid] : Saturday\n",
      "[Short desc] : Sunny\n",
      "[Temperature] : High: 59 °F\n",
      "[Image desc] : Saturday: Sunny, with a high near 59.\n",
      "----------------------------------------------------------------------------------\n"
     ]
    }
   ],
   "source": [
    "scraping_use_select(urlopen(url))"
   ]
  },
  {
   "cell_type": "code",
   "execution_count": 101,
   "metadata": {},
   "outputs": [
    {
     "name": "stdout",
     "output_type": "stream",
     "text": [
      "\n",
      "National Weather Service Scraping\n",
      "----------------------------------\n",
      "[find 함수 사용]\n",
      "총 tomestone-container 검색 개수 : 9\n",
      "----------------------------------------------------------------------------------\n",
      "[Peroid] : NOW until10:00am Sat\n",
      "[Short desc] : Coastal Flood Advisory\n",
      "[Temperature] : No Information\n",
      "[Image desc] : \n",
      "----------------------------------------------------------------------------------\n",
      "[Peroid] : Tonight\n",
      "[Short desc] : Rain\n",
      "[Temperature] : Low: 47 °F\n",
      "[Image desc] : Tonight: Rain after 4am.  Low around 47. West northwest wind around 11 mph.  Chance of precipitation is 80%.\n",
      "----------------------------------------------------------------------------------\n",
      "[Peroid] : Wednesday\n",
      "[Short desc] : Rain\n",
      "[Temperature] : High: 54 °F\n",
      "[Image desc] : Wednesday: Rain, mainly before 4pm.  High near 54. West wind 9 to 18 mph becoming south southwest in the morning. Winds could gust as high as 22 mph.  Chance of precipitation is 80%. New precipitation amounts between a tenth and quarter of an inch possible. \n",
      "----------------------------------------------------------------------------------\n",
      "[Peroid] : WednesdayNight\n",
      "[Short desc] : Slight ChanceRain thenMostly Cloudy\n",
      "[Temperature] : Low: 45 °F\n",
      "[Image desc] : Wednesday Night: A 20 percent chance of rain before 10pm.  Mostly cloudy, with a low around 45. North wind 9 to 14 mph, with gusts as high as 18 mph.  New precipitation amounts of less than a tenth of an inch possible. \n",
      "----------------------------------------------------------------------------------\n",
      "[Peroid] : Thursday\n",
      "[Short desc] : Partly Sunny\n",
      "[Temperature] : High: 56 °F\n",
      "[Image desc] : Thursday: Partly sunny, with a high near 56. North wind 5 to 15 mph becoming west northwest in the afternoon. Winds could gust as high as 20 mph. \n",
      "----------------------------------------------------------------------------------\n",
      "[Peroid] : ThursdayNight\n",
      "[Short desc] : Partly Cloudy\n",
      "[Temperature] : Low: 44 °F\n",
      "[Image desc] : Thursday Night: Partly cloudy, with a low around 44. North wind 5 to 9 mph. \n",
      "----------------------------------------------------------------------------------\n",
      "[Peroid] : Friday\n",
      "[Short desc] : Mostly Sunny\n",
      "[Temperature] : High: 56 °F\n",
      "[Image desc] : Friday: Mostly sunny, with a high near 56.\n",
      "----------------------------------------------------------------------------------\n",
      "[Peroid] : FridayNight\n",
      "[Short desc] : Partly Cloudy\n",
      "[Temperature] : Low: 44 °F\n",
      "[Image desc] : Friday Night: Partly cloudy, with a low around 44.\n",
      "----------------------------------------------------------------------------------\n",
      "[Peroid] : Saturday\n",
      "[Short desc] : Sunny\n",
      "[Temperature] : High: 59 °F\n",
      "[Image desc] : Saturday: Sunny, with a high near 59.\n",
      "----------------------------------------------------------------------------------\n"
     ]
    }
   ],
   "source": [
    "scraping_use_find(urlopen(url))"
   ]
  },
  {
   "cell_type": "markdown",
   "metadata": {},
   "source": [
    "<body> \n",
    "-> <main class=\"container\"> \n",
    "-> <div class=\"contentArea\"> \n",
    "-> <div id=\"seven-day-forecast\" class=\"panel panel-default\">\n",
    "-> <div class=\"panel-body\" id=\"seven-day-forecast-body\"> \n",
    "-> <div id=\"seven-day-forecast-container\"> \n",
    "-> <ul id=\"seven-day-forecast-list\" class=\"list-unstyled\" style=\"padding-top: 60px\"> \n",
    "-> <li class=\"forecast-tombstone\"> \n",
    "-> <div class=\"tombstone-container\">\n",
    "-> <li class=\"forecast-tombstone\">  이때 여러개 선택!!!!!!!\n",
    "-> <div class=\"tombstone-container\">"
   ]
  },
  {
   "cell_type": "code",
   "execution_count": 102,
   "metadata": {
    "vscode": {
     "languageId": "html"
    }
   },
   "outputs": [
    {
     "ename": "SyntaxError",
     "evalue": "invalid syntax (3735568826.py, line 1)",
     "output_type": "error",
     "traceback": [
      "\u001b[1;36m  Cell \u001b[1;32mIn[102], line 1\u001b[1;36m\u001b[0m\n\u001b[1;33m    <p class=\"period-name\">NOW until<br>10:00am Sat</p>\u001b[0m\n\u001b[1;37m    ^\u001b[0m\n\u001b[1;31mSyntaxError\u001b[0m\u001b[1;31m:\u001b[0m invalid syntax\n"
     ]
    }
   ],
   "source": [
    "\n",
    "\n",
    "\n",
    "<p class=\"period-name\">NOW until<br>10:00am Sat</p>\n",
    "<p><img src=\"DualImage.php?i=nskc&amp;j=nra&amp;jp=80\" alt=\"\" title=\"\" class=\"forecast-icon\"></p>\n",
    "<p class=\"short-desc\" style=\"height: 54px;\">Coastal Flood Advisory</p>\n",
    "\n",
    "</div>\n"
   ]
  },
  {
   "cell_type": "code",
   "execution_count": null,
   "metadata": {
    "vscode": {
     "languageId": "html"
    }
   },
   "outputs": [],
   "source": [
    "-> <li class=\"forecast-tombstone\"> \n",
    "-> <div class=\"tombstone-container\">\n",
    "    <p class=\"period-name\">Wednesday<br><br></p>\n",
    "    <p><img src=\"newimages/medium/ra80.png\" \n",
    "        alt=\"Wednesday: Rain, mainly before 4pm.  High near 54. West wind 9 to 18 mph becoming south southwest in the morning. Winds could gust as high as 22 mph.  Chance of precipitation is 80%. New precipitation amounts between a tenth and quarter of an inch possible. \" \n",
    "        title=\"Wednesday: Rain, mainly before 4pm.  High near 54. West wind 9 to 18 mph becoming south southwest in the morning. Winds could gust as high as 22 mph.  Chance of precipitation is 80%. New precipitation amounts between a tenth and quarter of an inch possible. \" \n",
    "        class=\"forecast-icon\"></p>\n",
    "    <p class=\"short-desc\" style=\"height: 54px;\">Rain</p>\n",
    "    <p class=\"temp temp-high\">High: 54 °F</p></div>"
   ]
  }
 ],
 "metadata": {
  "kernelspec": {
   "display_name": "My_38",
   "language": "python",
   "name": "python3"
  },
  "language_info": {
   "codemirror_mode": {
    "name": "ipython",
    "version": 3
   },
   "file_extension": ".py",
   "mimetype": "text/x-python",
   "name": "python",
   "nbconvert_exporter": "python",
   "pygments_lexer": "ipython3",
   "version": "3.8.18"
  }
 },
 "nbformat": 4,
 "nbformat_minor": 2
}
