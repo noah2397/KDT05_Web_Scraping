{
 "cells": [
  {
   "cell_type": "code",
   "execution_count": 4,
   "metadata": {},
   "outputs": [],
   "source": [
    "from urllib.parse import quote\n",
    "from bs4 import BeautifulSoup\n",
    "from urllib.request import urlopen\n",
    "\n",
    "url = f\"https://search.naver.com/search.naver?query={quote('대구+날씨')}\"\n",
    "html = urlopen(url)\n",
    "\n",
    "# 이후에 BeautifulSoup 등을 사용하여 HTML 파싱을 진행할 수 있습니다.\n"
   ]
  },
  {
   "cell_type": "code",
   "execution_count": 5,
   "metadata": {},
   "outputs": [],
   "source": [
    "bs=BeautifulSoup(html, 'html.parser')"
   ]
  },
  {
   "cell_type": "code",
   "execution_count": 42,
   "metadata": {},
   "outputs": [
    {
     "name": "stdout",
     "output_type": "stream",
     "text": [
      "현재 위치 : 중구 동인동1가\n"
     ]
    }
   ],
   "source": [
    "print(f'현재 위치 : {bs.find(\"div\",class_=\"title_area\").find(\"h2\").text}')"
   ]
  },
  {
   "cell_type": "code",
   "execution_count": 39,
   "metadata": {},
   "outputs": [
    {
     "name": "stdout",
     "output_type": "stream",
     "text": [
      "현재 온도 : 6.3°\n"
     ]
    }
   ],
   "source": [
    "print(f'현재 온도 : {bs.find(\"div\",{\"class\":\"temperature_text\"}).find(\"strong\").text[5:]}')"
   ]
  },
  {
   "cell_type": "code",
   "execution_count": 37,
   "metadata": {},
   "outputs": [
    {
     "name": "stdout",
     "output_type": "stream",
     "text": [
      "날씨 상태 : 구름많음\n"
     ]
    }
   ],
   "source": [
    "print(f'날씨 상태 : {bs.find(\"span\",{\"class\":\"weather before_slash\"}).text}')"
   ]
  },
  {
   "cell_type": "code",
   "execution_count": 24,
   "metadata": {},
   "outputs": [
    {
     "name": "stdout",
     "output_type": "stream",
     "text": [
      "미세먼지 보통\n",
      "초미세먼지 보통\n",
      "자외선 좋음\n",
      "일몰 17:58\n"
     ]
    }
   ],
   "source": [
    "dataList = bs.find(\"ul\",{\"class\":\"today_chart_list\"}).find_all(\"li\",{\"class\":\"item_today\"})\n",
    "print(\"공기 상태 : \")\n",
    "for i in range(len(dataList)) :\n",
    "    print(f'{dataList[i].find(\"a\").find(\"strong\").text} {dataList[i].find(\"a\").find(\"span\").text}')\n"
   ]
  },
  {
   "cell_type": "code",
   "execution_count": 35,
   "metadata": {},
   "outputs": [
    {
     "name": "stdout",
     "output_type": "stream",
     "text": [
      "17시  구름많음  7°\n",
      "18시  흐림  5°\n",
      "19시  구름많음  4°\n",
      "20시  흐림  3°\n",
      "21시  구름많음  3°\n",
      "22시  흐림  2°\n",
      "23시  흐림  1°\n",
      "내일  구름많음  1°\n",
      "01시  구름많음  0°\n",
      "02시  구름많음  0°\n",
      "03시  맑음  -1°\n",
      "04시  맑음  -1°\n",
      "05시  맑음  -2°\n",
      "06시  맑음  -2°\n",
      "07시  맑음  -2°\n",
      "08시  맑음  -2°\n",
      "09시  맑음  1°\n",
      "10시  맑음  3°\n",
      "11시  맑음  4°\n",
      "12시  맑음  6°\n",
      "13시  맑음  7°\n",
      "14시  구름많음  8°\n",
      "15시  구름많음  8°\n",
      "16시  구름많음  8°\n",
      "17시  구름많음  8°\n",
      "18시  구름많음  6°\n",
      "19시  구름많음  5°\n",
      "20시  구름많음  3°\n",
      "21시  구름많음  3°\n",
      "22시  구름많음  2°\n",
      "23시  구름많음  1°\n",
      "모레  구름많음  1°\n",
      "01시  구름많음  0°\n",
      "02시  흐림  0°\n",
      "03시  구름많음  -1°\n",
      "04시  흐림  -1°\n",
      "05시  구름많음  -1°\n",
      "06시  흐림  -1°\n",
      "07시  흐림  -2°\n",
      "08시  구름많음  -1°\n",
      "09시  맑음  1°\n",
      "10시  맑음  3°\n",
      "11시  맑음  5°\n",
      "12시  맑음  6°\n",
      "13시  맑음  7°\n",
      "14시  맑음  8°\n",
      "15시  맑음  9°\n",
      "16시  맑음  8°\n",
      "17시  맑음  8°\n",
      "18시  맑음  6°\n",
      "19시  맑음  4°\n",
      "20시  맑음  3°\n",
      "21시  맑음  3°\n",
      "22시  맑음  2°\n",
      "23시  맑음  1°\n",
      "02.10.  맑음  1°\n"
     ]
    }
   ],
   "source": [
    "dataList = bs.find(\"div\",{\"class\":\"graph_inner _hourly_weather\"}).find(\"ul\").find_all(\"li\",class_=\"_li\")\n",
    "for i in range(len(dataList)) :\n",
    "    time = dataList[i].find(\"dl\").find(\"dt\").text\n",
    "    status = dataList[i].find(\"dl\").find(\"dd\", class_=\"weather_box\").find(\"i\").text\n",
    "    ondo = dataList[i].find(\"dl\").find(\"dd\", class_=\"degree_point\").select_one(\"div > div > span\").text\n",
    "    print(f\"{time}  {status}  {ondo}\")"
   ]
  },
  {
   "cell_type": "code",
   "execution_count": null,
   "metadata": {},
   "outputs": [],
   "source": [
    "현재 온도 : <div class=“temperature_text”>\n",
    "\n",
    "날씨 상태 : <span class=\"weather before_slash\">맑음</span>\n",
    "\n",
    "공기 상태 :\n",
    "• <ul class=\"today_chart_list\">\n",
    "• <li class=“item_today”>가 4개 존재\n",
    "\n",
    "시간대별 날씨\n",
    "• <div class=“graph_inner _hourly_weather”>\n",
    "– 하위에 많은 <li>태그 존재"
   ]
  }
 ],
 "metadata": {
  "kernelspec": {
   "display_name": "My_38",
   "language": "python",
   "name": "python3"
  },
  "language_info": {
   "codemirror_mode": {
    "name": "ipython",
    "version": 3
   },
   "file_extension": ".py",
   "mimetype": "text/x-python",
   "name": "python",
   "nbconvert_exporter": "python",
   "pygments_lexer": "ipython3",
   "version": "3.8.18"
  }
 },
 "nbformat": 4,
 "nbformat_minor": 2
}
