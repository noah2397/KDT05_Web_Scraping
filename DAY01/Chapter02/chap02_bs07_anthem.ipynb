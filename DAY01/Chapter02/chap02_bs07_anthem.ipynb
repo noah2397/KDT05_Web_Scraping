{
 "cells": [
  {
   "cell_type": "code",
   "execution_count": 2,
   "metadata": {},
   "outputs": [
    {
     "name": "stdout",
     "output_type": "stream",
     "text": [
      "애국가\n"
     ]
    }
   ],
   "source": [
    "# 제목과 가사 내용 추출\n",
    "import html_ex as ex\n",
    "from bs4 import BeautifulSoup\n",
    "soup = BeautifulSoup(ex.html_example2, 'html.parser')\n",
    "print(soup.select_one('p#title').string) # 제목"
   ]
  },
  {
   "cell_type": "code",
   "execution_count": 4,
   "metadata": {},
   "outputs": [
    {
     "name": "stdout",
     "output_type": "stream",
     "text": [
      "\n",
      "            동해물과 백두산이 마르고 닳도록 하느님이 보우하사 우리나라 만세.\n",
      "            무궁화 삼천리 화려 강산 대한 사람 대한으로 길이 보전하세.\n",
      "\n",
      "\n",
      "            남산 위에 저 소나무 철갑을 두른 듯 바람서리 불변함은 우리 기상일세.\n",
      "            무궁화 삼천리 화려 강산 대한 사람 대한으로 길이 보전하세.\n",
      "\n",
      "\n",
      "            가을 하늘 공활한데 높고 구름 없이 밝은 달은 우리 가슴 일편단심일세.\n",
      "            무궁화 삼천리 화려 강산 대한 사람 대한으로 길이 보전하세.\n",
      "\n",
      "\n",
      "            이 기상과 이 맘으로 충성을 다하여 괴로우나 즐거우나 나라 사랑하세.\n",
      "            무궁화 삼천리 화려 강산 대한 사람 대한으로 길이 보전하세.\n",
      "\n"
     ]
    }
   ],
   "source": [
    "contents = soup.select('p.content')\n",
    "for content in contents:\n",
    "    print(content.text)"
   ]
  },
  {
   "cell_type": "code",
   "execution_count": null,
   "metadata": {},
   "outputs": [],
   "source": []
  }
 ],
 "metadata": {
  "kernelspec": {
   "display_name": "My_38",
   "language": "python",
   "name": "python3"
  },
  "language_info": {
   "codemirror_mode": {
    "name": "ipython",
    "version": 3
   },
   "file_extension": ".py",
   "mimetype": "text/x-python",
   "name": "python",
   "nbconvert_exporter": "python",
   "pygments_lexer": "ipython3",
   "version": "3.8.18"
  }
 },
 "nbformat": 4,
 "nbformat_minor": 2
}
