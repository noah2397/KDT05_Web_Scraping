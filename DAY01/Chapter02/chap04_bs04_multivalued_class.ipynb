{
 "cells": [
  {
   "cell_type": "code",
   "execution_count": 3,
   "metadata": {},
   "outputs": [
    {
     "name": "stdout",
     "output_type": "stream",
     "text": [
      "{'class': ['passed', 'a', 'b', 'c'], 'id': 'row1 example'}\n",
      "{'class': ['failed'], 'id': 'row2'}\n"
     ]
    }
   ],
   "source": [
    "from bs4 import BeautifulSoup\n",
    "tr = '''\n",
    "<table>\n",
    "<tr class=\"passed a b c\" id=\"row1 example\"><td>t1</td></tr>\n",
    "<tr class=\"failed\" id=\"row2\"><td>t2</td></tr>\n",
    "</table>\n",
    "'''\n",
    "table = BeautifulSoup(tr, 'html.parser')\n",
    "for row in table.find_all('tr'): # find_all('tag'): 해당 tag를 모두 찾아서 리스트로 리턴\n",
    "    print(row.attrs)"
   ]
  },
  {
   "cell_type": "code",
   "execution_count": null,
   "metadata": {},
   "outputs": [],
   "source": []
  }
 ],
 "metadata": {
  "kernelspec": {
   "display_name": "My_38",
   "language": "python",
   "name": "python3"
  },
  "language_info": {
   "codemirror_mode": {
    "name": "ipython",
    "version": 3
   },
   "file_extension": ".py",
   "mimetype": "text/x-python",
   "name": "python",
   "nbconvert_exporter": "python",
   "pygments_lexer": "ipython3",
   "version": "3.8.18"
  }
 },
 "nbformat": 4,
 "nbformat_minor": 2
}
