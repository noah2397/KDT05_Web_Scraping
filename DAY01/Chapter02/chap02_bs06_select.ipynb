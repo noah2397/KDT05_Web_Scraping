{
 "cells": [
  {
   "cell_type": "code",
   "execution_count": 2,
   "metadata": {},
   "outputs": [
    {
     "name": "stdout",
     "output_type": "stream",
     "text": [
      "<head>\n",
      "<meta charset=\"utf-8\"/>\n",
      "<meta content=\"width=device-width, initial-scale=1.0\" name=\"viewport\"/>\n",
      "<title>BeautifulSoup 활용</title>\n",
      "</head>\n",
      "head.text: BeautifulSoup 활용\n"
     ]
    }
   ],
   "source": [
    "from bs4 import BeautifulSoup\n",
    "import html_ex as ex\n",
    "\n",
    "#select_one()\n",
    "#• 첫 번째 일치하는 태그만 리턴: find()와 동일 기능\n",
    "soup = BeautifulSoup(ex.html_example, 'html.parser')\n",
    "head = soup.select_one('head')\n",
    "print(head)\n",
    "print('head.text:', head.text.strip())"
   ]
  },
  {
   "cell_type": "code",
   "execution_count": 3,
   "metadata": {},
   "outputs": [
    {
     "name": "stdout",
     "output_type": "stream",
     "text": [
      "<h1 id=\"heading\">Heading 1</h1>\n"
     ]
    }
   ],
   "source": [
    "h1 = soup.select_one('h1') # 첫 번째 <h1>태그 선택\n",
    "print(h1)"
   ]
  },
  {
   "cell_type": "code",
   "execution_count": 4,
   "metadata": {},
   "outputs": [
    {
     "name": "stdout",
     "output_type": "stream",
     "text": [
      "<h1 id=\"footer\">Footer</h1>\n"
     ]
    }
   ],
   "source": [
    "# select_one() 함수 예제\n",
    "# • <h1>태그의 id 검색: #id\n",
    "# <h1>태그의 id가 \"footer\"인 항목 추출\n",
    "footer = soup.select_one('h1#footer')\n",
    "print(footer)"
   ]
  },
  {
   "cell_type": "code",
   "execution_count": 5,
   "metadata": {},
   "outputs": [
    {
     "name": "stdout",
     "output_type": "stream",
     "text": [
      "<a class=\"internal_link\" href=\"/pages/page1.html\">Page1</a>\n"
     ]
    }
   ],
   "source": [
    "# 클래스 이름 검색: 태그.클래스이름\n",
    "# – <a class=“internal_link” herf=“/pages/page1.html>Page1</a> 검색\n",
    "class_link = soup.select_one('a.internal_link')\n",
    "print(class_link)"
   ]
  },
  {
   "cell_type": "code",
   "execution_count": 6,
   "metadata": {},
   "outputs": [
    {
     "name": "stdout",
     "output_type": "stream",
     "text": [
      "Page1\n",
      "/pages/page1.html\n"
     ]
    }
   ],
   "source": [
    "print(class_link.string)\n",
    "print(class_link['href'])"
   ]
  },
  {
   "cell_type": "code",
   "execution_count": 11,
   "metadata": {},
   "outputs": [
    {
     "name": "stdout",
     "output_type": "stream",
     "text": [
      "find external_link:  <a ,=\"\" class=\"external_link\" href=\"www.google.com\">google</a>\n"
     ]
    }
   ],
   "source": [
    "# 계층적 하위 태그 접근 #1\n",
    "# • (상위태그 > 하위태그) 형식으로 접근: 태그가 단계적으로 존재할 때\n",
    "link1 = soup.select_one('div#link > a.external_link')\n",
    "print('find external_link: ',link1)"
   ]
  },
  {
   "cell_type": "code",
   "execution_count": 8,
   "metadata": {},
   "outputs": [
    {
     "name": "stdout",
     "output_type": "stream",
     "text": [
      "find external_link:  <a ,=\"\" class=\"external_link\" href=\"www.google.com\">google</a>\n"
     ]
    }
   ],
   "source": [
    "# find()함수와 비교\n",
    "link_find = soup.find('div', {'id': 'link'})\n",
    "external_link = link_find.find('a', {'class': 'external_link'})\n",
    "print('find external_link: ', external_link)\n",
    "# – 하위 태그를 찾을 때, 반복적으로 코드를 작성"
   ]
  },
  {
   "cell_type": "code",
   "execution_count": 10,
   "metadata": {},
   "outputs": [
    {
     "name": "stdout",
     "output_type": "stream",
     "text": [
      "<p id=\"second\">class1's second paragraph</p>\n",
      "class1's second paragraph\n"
     ]
    }
   ],
   "source": [
    "# 계층적 하위 태그 접근 #2: 공백으로 하위 태그 선언\n",
    "# • (상위태그 하위태그) 형식으로 접근: 자손 관계의 하위태그\n",
    "link2 = soup.select_one('div#class1 p#second')\n",
    "print(link2)\n",
    "print(link2.string)"
   ]
  },
  {
   "cell_type": "code",
   "execution_count": 12,
   "metadata": {},
   "outputs": [
    {
     "name": "stdout",
     "output_type": "stream",
     "text": [
      "h1_all:  [<h1 id=\"heading\">Heading 1</h1>, <h1 id=\"footer\">Footer</h1>]\n"
     ]
    }
   ],
   "source": [
    "# select() 함수\n",
    "# • 모든 <h1> 태그 검색\n",
    "h1_all = soup.select('h1')\n",
    "print('h1_all: ', h1_all)"
   ]
  },
  {
   "cell_type": "code",
   "execution_count": 14,
   "metadata": {},
   "outputs": [
    {
     "name": "stdout",
     "output_type": "stream",
     "text": [
      "www.google.com\n",
      "www.naver.com\n",
      "/pages/page1.html\n"
     ]
    }
   ],
   "source": [
    "# html문서의 모든 <a> 태그의 href 값 추출\n",
    "url_links = soup.select('a')\n",
    "for link in url_links:\n",
    "    print(link['href'])"
   ]
  },
  {
   "cell_type": "code",
   "execution_count": 16,
   "metadata": {},
   "outputs": [
    {
     "name": "stdout",
     "output_type": "stream",
     "text": [
      "[<a ,=\"\" class=\"exteranl_link\" href=\"www.naver.com\">naver</a>, <a class=\"internal_link\" href=\"/pages/page1.html\">Page1</a>]\n",
      "www.naver.com\n"
     ]
    }
   ],
   "source": [
    "#<div id=“class1”> 내부의 모든 url 검색\n",
    "div_urls = soup.select('div#class1 > a')\n",
    "print(div_urls)\n",
    "print(div_urls[0]['href'])"
   ]
  },
  {
   "cell_type": "code",
   "execution_count": 17,
   "metadata": {},
   "outputs": [
    {
     "name": "stdout",
     "output_type": "stream",
     "text": [
      "[<h1 id=\"heading\">Heading 1</h1>, <h1 id=\"footer\">Footer</h1>]\n"
     ]
    }
   ],
   "source": [
    "# 여러 항목 검색하기\n",
    "# • <h1>태그의 id가 ”heading”과 “footer”를 모두 검색\n",
    "# – 쉼표(,)로 나열함\n",
    "# <h1 id=\"heading”>과 <h1 id=\"footer”> 항목 가져오기\n",
    "h1 = soup.select('#heading, #footer')\n",
    "print(h1)"
   ]
  },
  {
   "cell_type": "code",
   "execution_count": 18,
   "metadata": {},
   "outputs": [
    {
     "name": "stdout",
     "output_type": "stream",
     "text": [
      "[<a ,=\"\" class=\"external_link\" href=\"www.google.com\">google</a>, <a class=\"internal_link\" href=\"/pages/page1.html\">Page1</a>]\n"
     ]
    }
   ],
   "source": [
    "#<a>태그의 class이름이 “external_link”와 ”internal_link” 모두 검색\n",
    "url_links = soup.select('a.external_link, a.internal_link')\n",
    "print(url_links)"
   ]
  },
  {
   "cell_type": "code",
   "execution_count": null,
   "metadata": {},
   "outputs": [],
   "source": []
  }
 ],
 "metadata": {
  "kernelspec": {
   "display_name": "My_38",
   "language": "python",
   "name": "python3"
  },
  "language_info": {
   "codemirror_mode": {
    "name": "ipython",
    "version": 3
   },
   "file_extension": ".py",
   "mimetype": "text/x-python",
   "name": "python",
   "nbconvert_exporter": "python",
   "pygments_lexer": "ipython3",
   "version": "3.8.18"
  }
 },
 "nbformat": 4,
 "nbformat_minor": 2
}
