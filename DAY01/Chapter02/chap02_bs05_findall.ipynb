{
 "cells": [
  {
   "cell_type": "code",
   "execution_count": 1,
   "metadata": {},
   "outputs": [
    {
     "name": "stdout",
     "output_type": "stream",
     "text": [
      "div_tags length:  3\n",
      "-----------------------------------------------\n",
      "<div id=\"link\">\n",
      "<a ,=\"\" class=\"external_link\" href=\"www.google.com\">google</a>\n",
      "<span class=\"red\">BeautifulSoup Library Examples!</span>\n",
      "<div id=\"class1\">\n",
      "<p id=\"first\">class1's first paragraph</p>\n",
      "<a ,=\"\" class=\"exteranl_link\" href=\"www.naver.com\">naver</a>\n",
      "<p id=\"second\">class1's second paragraph</p>\n",
      "<a class=\"internal_link\" href=\"/pages/page1.html\">Page1</a>\n",
      "<p id=\"third\">class1's third paragraph</p>\n",
      "</div>\n",
      "</div>\n",
      "-----------------------------------------------\n",
      "<div id=\"class1\">\n",
      "<p id=\"first\">class1's first paragraph</p>\n",
      "<a ,=\"\" class=\"exteranl_link\" href=\"www.naver.com\">naver</a>\n",
      "<p id=\"second\">class1's second paragraph</p>\n",
      "<a class=\"internal_link\" href=\"/pages/page1.html\">Page1</a>\n",
      "<p id=\"third\">class1's third paragraph</p>\n",
      "</div>\n",
      "-----------------------------------------------\n",
      "<div id=\"text_id2\">\n",
      "        Example page\n",
      "        <p>g</p>\n",
      "</div>\n"
     ]
    }
   ],
   "source": [
    "from bs4 import BeautifulSoup\n",
    "import html_ex as ex\n",
    "soup = BeautifulSoup(ex.html_example, 'html.parser')\n",
    "# 모든 div 태그를 검색 (리스트 형태로 반환)\n",
    "div_tags = soup.find_all('div')\n",
    "print('div_tags length: ', len(div_tags))\n",
    "for div in div_tags:\n",
    "    print('-----------------------------------------------')\n",
    "    print(div)"
   ]
  },
  {
   "cell_type": "code",
   "execution_count": 2,
   "metadata": {},
   "outputs": [
    {
     "name": "stdout",
     "output_type": "stream",
     "text": [
      "<a ,=\"\" class=\"external_link\" href=\"www.google.com\">google</a>\n",
      "url:www.google.com, text: google\n",
      "\n",
      "<a ,=\"\" class=\"exteranl_link\" href=\"www.naver.com\">naver</a>\n",
      "url:www.naver.com, text: naver\n",
      "\n",
      "<a class=\"internal_link\" href=\"/pages/page1.html\">Page1</a>\n",
      "url:/pages/page1.html, text: Page1\n",
      "\n"
     ]
    }
   ],
   "source": [
    "links = soup.find_all('a')\n",
    "for alink in links:\n",
    "    print(alink)\n",
    "    print(f\"url:{alink['href']}, text: {alink.string}\")\n",
    "    print()"
   ]
  },
  {
   "cell_type": "code",
   "execution_count": 3,
   "metadata": {},
   "outputs": [
    {
     "name": "stdout",
     "output_type": "stream",
     "text": [
      "[<a ,=\"\" class=\"external_link\" href=\"www.google.com\">google</a>, <a class=\"internal_link\" href=\"/pages/page1.html\">Page1</a>]\n"
     ]
    }
   ],
   "source": [
    "# 특정 태그 중 여러 속성값을 한 번에 검색\n",
    "# • 여러 <a>태그에서 2개의 class 속성값 검색:\n",
    "\n",
    "# ‘external_link’, ‘internal_link’만 검색\n",
    "\n",
    "# – 검색할 속성값을 리스트 형태로 추가\n",
    "# – {'class':['external_link', 'internal_link’]}\n",
    "link_tags = soup.find_all('a', {'class':['external_link', 'internal_link']})\n",
    "print(link_tags)"
   ]
  },
  {
   "cell_type": "code",
   "execution_count": 4,
   "metadata": {},
   "outputs": [
    {
     "name": "stdout",
     "output_type": "stream",
     "text": [
      "<p id=\"first\">class1's first paragraph</p>\n",
      "<p id=\"third\">class1's third paragraph</p>\n"
     ]
    }
   ],
   "source": [
    "# <p>태그의 id값이 ‘first’, ‘third’인 항목 검색\n",
    "p_tags = soup.find_all('p', {'id':['first', 'third']})\n",
    "for p in p_tags:\n",
    "    print(p)"
   ]
  },
  {
   "cell_type": "code",
   "execution_count": null,
   "metadata": {},
   "outputs": [],
   "source": []
  }
 ],
 "metadata": {
  "kernelspec": {
   "display_name": "My_38",
   "language": "python",
   "name": "python3"
  },
  "language_info": {
   "codemirror_mode": {
    "name": "ipython",
    "version": 3
   },
   "file_extension": ".py",
   "mimetype": "text/x-python",
   "name": "python",
   "nbconvert_exporter": "python",
   "pygments_lexer": "ipython3",
   "version": "3.8.18"
  }
 },
 "nbformat": 4,
 "nbformat_minor": 2
}
