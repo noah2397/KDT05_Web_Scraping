{
 "cells": [
  {
   "cell_type": "code",
   "execution_count": 6,
   "metadata": {},
   "outputs": [
    {
     "name": "stdout",
     "output_type": "stream",
     "text": [
      "<img alt=\"이미지 차트\" height=\"289\" id=\"img_chart_area\" onerror=\"this.src='https://ssl.pstatic.net/imgstock/chart3/world2008/error_700x289.png'\" src=\"https://ssl.pstatic.net/imgfinance/chart/item/area/year3/079550.png?sidcode=1707900542508\" width=\"700\"/>\n",
      "Image Crawling is done.\n"
     ]
    }
   ],
   "source": [
    "from bs4 import BeautifulSoup as bs\n",
    "from urllib.request import urlopen\n",
    "from selenium import webdriver\n",
    "from selenium.webdriver.common.by import By\n",
    "\n",
    "\n",
    "driver=webdriver.Chrome()\n",
    "driver.get(\"https://finance.naver.com/item/main.nhn?code=079550\")\n",
    "driver.implicitly_wait(5)\n",
    "driver.find_element(By.CLASS_NAME, 'year3').click()\n",
    "\n",
    "html=driver.page_source\n",
    "soup = bs(html, \"html.parser\")\n",
    "img = soup.find(\"img\",id='img_chart_area')\n",
    "print(img)\n",
    " \n",
    "imgUrl = img.attrs['src']\n",
    "with urlopen(imgUrl) as f:\n",
    "    with open('./images/img' + str(1)+'.jpg','wb') as h: # w - write b - binary\n",
    "        img = f.read()\n",
    "        h.write(img)\n",
    "\n",
    "print('Image Crawling is done.')"
   ]
  },
  {
   "cell_type": "code",
   "execution_count": null,
   "metadata": {},
   "outputs": [],
   "source": []
  }
 ],
 "metadata": {
  "kernelspec": {
   "display_name": "My_38",
   "language": "python",
   "name": "python3"
  },
  "language_info": {
   "codemirror_mode": {
    "name": "ipython",
    "version": 3
   },
   "file_extension": ".py",
   "mimetype": "text/x-python",
   "name": "python",
   "nbconvert_exporter": "python",
   "pygments_lexer": "ipython3",
   "version": "3.8.18"
  }
 },
 "nbformat": 4,
 "nbformat_minor": 2
}
