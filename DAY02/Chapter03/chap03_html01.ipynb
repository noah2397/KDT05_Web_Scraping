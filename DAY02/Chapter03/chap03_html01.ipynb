{
 "cells": [
  {
   "cell_type": "code",
   "execution_count": 34,
   "metadata": {},
   "outputs": [
    {
     "name": "stdout",
     "output_type": "stream",
     "text": [
      "object_tag: <span class=\"red\">Heavens! what a virulent attack!</span>\n",
      "attrs: {'class': ['red']}\n",
      "value: ['red']\n",
      "text: Heavens! what a virulent attack!\n"
     ]
    }
   ],
   "source": [
    "import requests\n",
    "from urllib.request import urlopen\n",
    "from urllib.parse import quote\n",
    "from bs4 import BeautifulSoup\n",
    "\n",
    "#chap03_html01.py\n",
    "from bs4 import BeautifulSoup\n",
    "html_text='<span class=\"red\">Heavens! what a virulent attack!</span>'\n",
    "soup = BeautifulSoup(html_text, 'html.parser')\n",
    "object_tag = soup.find('span')\n",
    "print('object_tag:', object_tag)\n",
    "print('attrs:', object_tag.attrs)\n",
    "print('value:', object_tag.attrs['class'])\n",
    "print('text:', object_tag.text)"
   ]
  },
  {
   "cell_type": "code",
   "execution_count": 35,
   "metadata": {},
   "outputs": [
    {
     "name": "stdout",
     "output_type": "stream",
     "text": [
      "Anna\n",
      "Pavlovna Scherer\n",
      "Empress Marya\n",
      "Fedorovna\n",
      "Prince Vasili Kuragin\n",
      "Anna Pavlovna\n",
      "St. Petersburg\n",
      "the prince\n",
      "Anna Pavlovna\n",
      "Anna Pavlovna\n",
      "the prince\n",
      "the prince\n",
      "the prince\n",
      "Prince Vasili\n",
      "Anna Pavlovna\n",
      "Anna Pavlovna\n",
      "the prince\n",
      "Wintzingerode\n",
      "King of Prussia\n",
      "le Vicomte de Mortemart\n",
      "Montmorencys\n",
      "Rohans\n",
      "Abbe Morio\n",
      "the Emperor\n",
      "the prince\n",
      "Prince Vasili\n",
      "Dowager Empress Marya Fedorovna\n",
      "the baron\n",
      "Anna Pavlovna\n",
      "the Empress\n",
      "the Empress\n",
      "Anna Pavlovna's\n",
      "Her Majesty\n",
      "Baron\n",
      "Funke\n",
      "The prince\n",
      "Anna\n",
      "Pavlovna\n",
      "the Empress\n",
      "The prince\n",
      "Anatole\n",
      "the prince\n",
      "The prince\n",
      "Anna\n",
      "Pavlovna\n",
      "Anna Pavlovna\n"
     ]
    }
   ],
   "source": [
    "#chap03_html02.py\n",
    "from urllib.request import urlopen\n",
    "from bs4 import BeautifulSoup\n",
    "html = urlopen('http://www.pythonscraping.com/pages/warandpeace.html')\n",
    "soup = BeautifulSoup(html, \"html.parser\")\n",
    "# 등장인물의 이름: 녹색\n",
    "nameList = soup.find_all('span', {'class': 'green'})\n",
    "for name in nameList:\n",
    "    print(name.string)"
   ]
  },
  {
   "cell_type": "code",
   "execution_count": 36,
   "metadata": {},
   "outputs": [
    {
     "name": "stdout",
     "output_type": "stream",
     "text": [
      "['the prince', 'the prince', 'the prince', 'the prince', 'the prince', 'the prince', 'the prince']\n",
      "the prince count:  7\n"
     ]
    }
   ],
   "source": [
    "#chap03_html03.py\n",
    "# find_all(text=“검색어”)\n",
    "# • 대소문자 구분\n",
    "# • 검색어:\n",
    "\n",
    "from urllib.request import urlopen\n",
    "from bs4 import BeautifulSoup\n",
    "html = urlopen('http://www.pythonscraping.com/pages/warandpeace.html')\n",
    "soup = BeautifulSoup(html, 'html.parser')\n",
    "princeList = soup.find_all(string='the prince')\n",
    "#princeList = soup.find_all(text='the prince')\n",
    "print(princeList)\n",
    "print('the prince count: ', len(princeList))"
   ]
  },
  {
   "cell_type": "code",
   "execution_count": 37,
   "metadata": {},
   "outputs": [
    {
     "name": "stdout",
     "output_type": "stream",
     "text": [
      "children 개수:  13\n",
      "0 \n",
      "\n",
      "------------------------------\n",
      "1 <tr><th>\n",
      "Item Title\n",
      "</th><th>\n",
      "Description\n",
      "</th><th>\n",
      "Cost\n",
      "</th><th>\n",
      "Image\n",
      "</th></tr>\n",
      "------------------------------\n",
      "2 \n",
      "\n",
      "------------------------------\n",
      "3 <tr class=\"gift\" id=\"gift1\"><td>\n",
      "Vegetable Basket\n",
      "</td><td>\n",
      "This vegetable basket is the perfect gift for your health conscious (or overweight) friends!\n",
      "<span class=\"excitingNote\">Now with super-colorful bell peppers!</span>\n",
      "</td><td>\n",
      "$15.00\n",
      "</td><td>\n",
      "<img src=\"../img/gifts/img1.jpg\"/>\n",
      "</td></tr>\n",
      "------------------------------\n",
      "4 \n",
      "\n",
      "------------------------------\n",
      "5 <tr class=\"gift\" id=\"gift2\"><td>\n",
      "Russian Nesting Dolls\n",
      "</td><td>\n",
      "Hand-painted by trained monkeys, these exquisite dolls are priceless! And by \"priceless,\" we mean \"extremely expensive\"! <span class=\"excitingNote\">8 entire dolls per set! Octuple the presents!</span>\n",
      "</td><td>\n",
      "$10,000.52\n",
      "</td><td>\n",
      "<img src=\"../img/gifts/img2.jpg\"/>\n",
      "</td></tr>\n",
      "------------------------------\n",
      "6 \n",
      "\n",
      "------------------------------\n",
      "7 <tr class=\"gift\" id=\"gift3\"><td>\n",
      "Fish Painting\n",
      "</td><td>\n",
      "If something seems fishy about this painting, it's because it's a fish! <span class=\"excitingNote\">Also hand-painted by trained monkeys!</span>\n",
      "</td><td>\n",
      "$10,005.00\n",
      "</td><td>\n",
      "<img src=\"../img/gifts/img3.jpg\"/>\n",
      "</td></tr>\n",
      "------------------------------\n",
      "8 \n",
      "\n",
      "------------------------------\n",
      "9 <tr class=\"gift\" id=\"gift4\"><td>\n",
      "Dead Parrot\n",
      "</td><td>\n",
      "This is an ex-parrot! <span class=\"excitingNote\">Or maybe he's only resting?</span>\n",
      "</td><td>\n",
      "$0.50\n",
      "</td><td>\n",
      "<img src=\"../img/gifts/img4.jpg\"/>\n",
      "</td></tr>\n",
      "------------------------------\n",
      "10 \n",
      "\n",
      "------------------------------\n",
      "11 <tr class=\"gift\" id=\"gift5\"><td>\n",
      "Mystery Box\n",
      "</td><td>\n",
      "If you love suprises, this mystery box is for you! Do not place on light-colored surfaces. May cause oil staining. <span class=\"excitingNote\">Keep your friends guessing!</span>\n",
      "</td><td>\n",
      "$1.50\n",
      "</td><td>\n",
      "<img src=\"../img/gifts/img6.jpg\"/>\n",
      "</td></tr>\n",
      "------------------------------\n",
      "12 \n",
      "\n",
      "------------------------------\n"
     ]
    }
   ],
   "source": [
    "#chap03_html04_01.py\n",
    "from urllib.request import urlopen\n",
    "from bs4 import BeautifulSoup\n",
    "html = urlopen('http://www.pythonscraping.com/pages/page3.html')\n",
    "soup = BeautifulSoup(html, 'html.parser')\n",
    "table_tag = soup.find('table', {'id': 'giftList'})\n",
    "print('children 개수: ', len(list(table_tag.children)))\n",
    "for idx,child in enumerate(table_tag.children):\n",
    "    print(f'{idx} {child}')\n",
    "    print('-' * 30)"
   ]
  },
  {
   "cell_type": "code",
   "execution_count": 38,
   "metadata": {},
   "outputs": [
    {
     "name": "stdout",
     "output_type": "stream",
     "text": [
      "descendants 개수:  86\n",
      "0 \n",
      "\n",
      "1 <tr><th>\n",
      "Item Title\n",
      "</th><th>\n",
      "Description\n",
      "</th><th>\n",
      "Cost\n",
      "</th><th>\n",
      "Image\n",
      "</th></tr>\n",
      "2 <th>\n",
      "Item Title\n",
      "</th>\n",
      "3 \n",
      "Item Title\n",
      "\n",
      "4 <th>\n",
      "Description\n",
      "</th>\n",
      "5 \n",
      "Description\n",
      "\n",
      "6 <th>\n",
      "Cost\n",
      "</th>\n",
      "7 \n",
      "Cost\n",
      "\n",
      "8 <th>\n",
      "Image\n",
      "</th>\n",
      "9 \n",
      "Image\n",
      "\n",
      "10 \n",
      "\n",
      "11 <tr class=\"gift\" id=\"gift1\"><td>\n",
      "Vegetable Basket\n",
      "</td><td>\n",
      "This vegetable basket is the perfect gift for your health conscious (or overweight) friends!\n",
      "<span class=\"excitingNote\">Now with super-colorful bell peppers!</span>\n",
      "</td><td>\n",
      "$15.00\n",
      "</td><td>\n",
      "<img src=\"../img/gifts/img1.jpg\"/>\n",
      "</td></tr>\n",
      "12 <td>\n",
      "Vegetable Basket\n",
      "</td>\n",
      "13 \n",
      "Vegetable Basket\n",
      "\n",
      "14 <td>\n",
      "This vegetable basket is the perfect gift for your health conscious (or overweight) friends!\n",
      "<span class=\"excitingNote\">Now with super-colorful bell peppers!</span>\n",
      "</td>\n",
      "15 \n",
      "This vegetable basket is the perfect gift for your health conscious (or overweight) friends!\n",
      "\n",
      "16 <span class=\"excitingNote\">Now with super-colorful bell peppers!</span>\n",
      "17 Now with super-colorful bell peppers!\n",
      "18 \n",
      "\n",
      "19 <td>\n",
      "$15.00\n",
      "</td>\n",
      "20 \n",
      "$15.00\n",
      "\n",
      "21 <td>\n",
      "<img src=\"../img/gifts/img1.jpg\"/>\n",
      "</td>\n",
      "22 \n",
      "\n",
      "23 <img src=\"../img/gifts/img1.jpg\"/>\n",
      "24 \n",
      "\n",
      "25 \n",
      "\n",
      "26 <tr class=\"gift\" id=\"gift2\"><td>\n",
      "Russian Nesting Dolls\n",
      "</td><td>\n",
      "Hand-painted by trained monkeys, these exquisite dolls are priceless! And by \"priceless,\" we mean \"extremely expensive\"! <span class=\"excitingNote\">8 entire dolls per set! Octuple the presents!</span>\n",
      "</td><td>\n",
      "$10,000.52\n",
      "</td><td>\n",
      "<img src=\"../img/gifts/img2.jpg\"/>\n",
      "</td></tr>\n",
      "27 <td>\n",
      "Russian Nesting Dolls\n",
      "</td>\n",
      "28 \n",
      "Russian Nesting Dolls\n",
      "\n",
      "29 <td>\n",
      "Hand-painted by trained monkeys, these exquisite dolls are priceless! And by \"priceless,\" we mean \"extremely expensive\"! <span class=\"excitingNote\">8 entire dolls per set! Octuple the presents!</span>\n",
      "</td>\n",
      "30 \n",
      "Hand-painted by trained monkeys, these exquisite dolls are priceless! And by \"priceless,\" we mean \"extremely expensive\"! \n",
      "31 <span class=\"excitingNote\">8 entire dolls per set! Octuple the presents!</span>\n",
      "32 8 entire dolls per set! Octuple the presents!\n",
      "33 \n",
      "\n",
      "34 <td>\n",
      "$10,000.52\n",
      "</td>\n",
      "35 \n",
      "$10,000.52\n",
      "\n",
      "36 <td>\n",
      "<img src=\"../img/gifts/img2.jpg\"/>\n",
      "</td>\n",
      "37 \n",
      "\n",
      "38 <img src=\"../img/gifts/img2.jpg\"/>\n",
      "39 \n",
      "\n",
      "40 \n",
      "\n",
      "41 <tr class=\"gift\" id=\"gift3\"><td>\n",
      "Fish Painting\n",
      "</td><td>\n",
      "If something seems fishy about this painting, it's because it's a fish! <span class=\"excitingNote\">Also hand-painted by trained monkeys!</span>\n",
      "</td><td>\n",
      "$10,005.00\n",
      "</td><td>\n",
      "<img src=\"../img/gifts/img3.jpg\"/>\n",
      "</td></tr>\n",
      "42 <td>\n",
      "Fish Painting\n",
      "</td>\n",
      "43 \n",
      "Fish Painting\n",
      "\n",
      "44 <td>\n",
      "If something seems fishy about this painting, it's because it's a fish! <span class=\"excitingNote\">Also hand-painted by trained monkeys!</span>\n",
      "</td>\n",
      "45 \n",
      "If something seems fishy about this painting, it's because it's a fish! \n",
      "46 <span class=\"excitingNote\">Also hand-painted by trained monkeys!</span>\n",
      "47 Also hand-painted by trained monkeys!\n",
      "48 \n",
      "\n",
      "49 <td>\n",
      "$10,005.00\n",
      "</td>\n",
      "50 \n",
      "$10,005.00\n",
      "\n",
      "51 <td>\n",
      "<img src=\"../img/gifts/img3.jpg\"/>\n",
      "</td>\n",
      "52 \n",
      "\n",
      "53 <img src=\"../img/gifts/img3.jpg\"/>\n",
      "54 \n",
      "\n",
      "55 \n",
      "\n",
      "56 <tr class=\"gift\" id=\"gift4\"><td>\n",
      "Dead Parrot\n",
      "</td><td>\n",
      "This is an ex-parrot! <span class=\"excitingNote\">Or maybe he's only resting?</span>\n",
      "</td><td>\n",
      "$0.50\n",
      "</td><td>\n",
      "<img src=\"../img/gifts/img4.jpg\"/>\n",
      "</td></tr>\n",
      "57 <td>\n",
      "Dead Parrot\n",
      "</td>\n",
      "58 \n",
      "Dead Parrot\n",
      "\n",
      "59 <td>\n",
      "This is an ex-parrot! <span class=\"excitingNote\">Or maybe he's only resting?</span>\n",
      "</td>\n",
      "60 \n",
      "This is an ex-parrot! \n",
      "61 <span class=\"excitingNote\">Or maybe he's only resting?</span>\n",
      "62 Or maybe he's only resting?\n",
      "63 \n",
      "\n",
      "64 <td>\n",
      "$0.50\n",
      "</td>\n",
      "65 \n",
      "$0.50\n",
      "\n",
      "66 <td>\n",
      "<img src=\"../img/gifts/img4.jpg\"/>\n",
      "</td>\n",
      "67 \n",
      "\n",
      "68 <img src=\"../img/gifts/img4.jpg\"/>\n",
      "69 \n",
      "\n",
      "70 \n",
      "\n",
      "71 <tr class=\"gift\" id=\"gift5\"><td>\n",
      "Mystery Box\n",
      "</td><td>\n",
      "If you love suprises, this mystery box is for you! Do not place on light-colored surfaces. May cause oil staining. <span class=\"excitingNote\">Keep your friends guessing!</span>\n",
      "</td><td>\n",
      "$1.50\n",
      "</td><td>\n",
      "<img src=\"../img/gifts/img6.jpg\"/>\n",
      "</td></tr>\n",
      "72 <td>\n",
      "Mystery Box\n",
      "</td>\n",
      "73 \n",
      "Mystery Box\n",
      "\n",
      "74 <td>\n",
      "If you love suprises, this mystery box is for you! Do not place on light-colored surfaces. May cause oil staining. <span class=\"excitingNote\">Keep your friends guessing!</span>\n",
      "</td>\n",
      "75 \n",
      "If you love suprises, this mystery box is for you! Do not place on light-colored surfaces. May cause oil staining. \n",
      "76 <span class=\"excitingNote\">Keep your friends guessing!</span>\n",
      "77 Keep your friends guessing!\n",
      "78 \n",
      "\n",
      "79 <td>\n",
      "$1.50\n",
      "</td>\n",
      "80 \n",
      "$1.50\n",
      "\n",
      "81 <td>\n",
      "<img src=\"../img/gifts/img6.jpg\"/>\n",
      "</td>\n",
      "82 \n",
      "\n",
      "83 <img src=\"../img/gifts/img6.jpg\"/>\n",
      "84 \n",
      "\n",
      "85 \n",
      "\n"
     ]
    }
   ],
   "source": [
    "# chap03_html04_02.py\n",
    "\n",
    "from urllib.request import urlopen\n",
    "from bs4 import BeautifulSoup\n",
    "html = urlopen('http://www.pythonscraping.com/pages/page3.html')\n",
    "soup = BeautifulSoup(html, 'html.parser')\n",
    "# 자손: descendants\n",
    "desc = soup.find('table', {'id': 'giftList'}).descendants\n",
    "list_desc = list(desc)\n",
    "print('descendants 개수: ', len(list_desc))\n",
    "for idx,tag in enumerate(list_desc):\n",
    "    print(f'{idx} {tag}')"
   ]
  },
  {
   "cell_type": "code",
   "execution_count": 39,
   "metadata": {},
   "outputs": [
    {
     "name": "stdout",
     "output_type": "stream",
     "text": [
      "\n",
      "\n",
      "<tr class=\"gift\" id=\"gift1\"><td>\n",
      "Vegetable Basket\n",
      "</td><td>\n",
      "This vegetable basket is the perfect gift for your health conscious (or overweight) friends!\n",
      "<span class=\"excitingNote\">Now with super-colorful bell peppers!</span>\n",
      "</td><td>\n",
      "$15.00\n",
      "</td><td>\n",
      "<img src=\"../img/gifts/img1.jpg\"/>\n",
      "</td></tr>\n",
      "\n",
      "\n",
      "<tr class=\"gift\" id=\"gift2\"><td>\n",
      "Russian Nesting Dolls\n",
      "</td><td>\n",
      "Hand-painted by trained monkeys, these exquisite dolls are priceless! And by \"priceless,\" we mean \"extremely expensive\"! <span class=\"excitingNote\">8 entire dolls per set! Octuple the presents!</span>\n",
      "</td><td>\n",
      "$10,000.52\n",
      "</td><td>\n",
      "<img src=\"../img/gifts/img2.jpg\"/>\n",
      "</td></tr>\n",
      "\n",
      "\n",
      "<tr class=\"gift\" id=\"gift3\"><td>\n",
      "Fish Painting\n",
      "</td><td>\n",
      "If something seems fishy about this painting, it's because it's a fish! <span class=\"excitingNote\">Also hand-painted by trained monkeys!</span>\n",
      "</td><td>\n",
      "$10,005.00\n",
      "</td><td>\n",
      "<img src=\"../img/gifts/img3.jpg\"/>\n",
      "</td></tr>\n",
      "\n",
      "\n",
      "<tr class=\"gift\" id=\"gift4\"><td>\n",
      "Dead Parrot\n",
      "</td><td>\n",
      "This is an ex-parrot! <span class=\"excitingNote\">Or maybe he's only resting?</span>\n",
      "</td><td>\n",
      "$0.50\n",
      "</td><td>\n",
      "<img src=\"../img/gifts/img4.jpg\"/>\n",
      "</td></tr>\n",
      "\n",
      "\n",
      "<tr class=\"gift\" id=\"gift5\"><td>\n",
      "Mystery Box\n",
      "</td><td>\n",
      "If you love suprises, this mystery box is for you! Do not place on light-colored surfaces. May cause oil staining. <span class=\"excitingNote\">Keep your friends guessing!</span>\n",
      "</td><td>\n",
      "$1.50\n",
      "</td><td>\n",
      "<img src=\"../img/gifts/img6.jpg\"/>\n",
      "</td></tr>\n",
      "\n",
      "\n"
     ]
    }
   ],
   "source": [
    "#chap03_html04_03.py\n",
    "\n",
    "from urllib.request import urlopen\n",
    "from bs4 import BeautifulSoup\n",
    "html = urlopen('http://www.pythonscraping.com/pages/page3.html')\n",
    "soup = BeautifulSoup(html, 'html.parser')\n",
    "# next_siblings 속성\n",
    "for sibling in soup.find('table', {'id': 'giftList'}).tr.next_siblings:\n",
    "    print(sibling)"
   ]
  },
  {
   "cell_type": "code",
   "execution_count": 40,
   "metadata": {},
   "outputs": [
    {
     "name": "stdout",
     "output_type": "stream",
     "text": [
      "\n",
      "\n",
      "<tr class=\"gift\" id=\"gift1\"><td>\n",
      "Vegetable Basket\n",
      "</td><td>\n",
      "This vegetable basket is the perfect gift for your health conscious (or overweight) friends!\n",
      "<span class=\"excitingNote\">Now with super-colorful bell peppers!</span>\n",
      "</td><td>\n",
      "$15.00\n",
      "</td><td>\n",
      "<img src=\"../img/gifts/img1.jpg\"/>\n",
      "</td></tr>\n",
      "\n",
      "\n",
      "<tr><th>\n",
      "Item Title\n",
      "</th><th>\n",
      "Description\n",
      "</th><th>\n",
      "Cost\n",
      "</th><th>\n",
      "Image\n",
      "</th></tr>\n",
      "\n",
      "\n"
     ]
    }
   ],
   "source": [
    "for sibling in soup.find('tr', {'id': 'gift2'}).previous_siblings:\n",
    "    print(sibling)"
   ]
  },
  {
   "cell_type": "code",
   "execution_count": 41,
   "metadata": {},
   "outputs": [
    {
     "name": "stdout",
     "output_type": "stream",
     "text": [
      "sibling1: \n",
      "\n",
      "10\n"
     ]
    }
   ],
   "source": [
    "sibling1 = soup.find('tr', {'id': 'gift3'}).next_sibling\n",
    "print('sibling1:', sibling1)\n",
    "print(ord(sibling1)) # ord(문자): 문자의 Unicode 정수를 리턴"
   ]
  },
  {
   "cell_type": "code",
   "execution_count": 42,
   "metadata": {},
   "outputs": [
    {
     "name": "stdout",
     "output_type": "stream",
     "text": [
      "<tr class=\"gift\" id=\"gift4\"><td>\n",
      "Dead Parrot\n",
      "</td><td>\n",
      "This is an ex-parrot! <span class=\"excitingNote\">Or maybe he's only resting?</span>\n",
      "</td><td>\n",
      "$0.50\n",
      "</td><td>\n",
      "<img src=\"../img/gifts/img4.jpg\"/>\n",
      "</td></tr>\n"
     ]
    }
   ],
   "source": [
    "# • next_sibling.next_sibling 이용\n",
    "sibling2 = soup.find('tr', {'id':'gift3'}).next_sibling.next_sibling\n",
    "print(sibling2)"
   ]
  },
  {
   "cell_type": "code",
   "execution_count": 43,
   "metadata": {},
   "outputs": [
    {
     "data": {
      "text/plain": [
       "<head>\n",
       "<style>\n",
       "img{\n",
       "\twidth:75px;\n",
       "}\n",
       "table{\n",
       "\twidth:50%;\n",
       "}\n",
       "td{\n",
       "\tmargin:10px;\n",
       "\tpadding:10px;\n",
       "}\n",
       ".wrapper{\n",
       "\twidth:800px;\n",
       "}\n",
       ".excitingNote{\n",
       "\tfont-style:italic;\n",
       "\tfont-weight:bold;\n",
       "}\n",
       "</style>\n",
       "</head>"
      ]
     },
     "execution_count": 43,
     "metadata": {},
     "output_type": "execute_result"
    }
   ],
   "source": [
    "'''\n",
    "<head>\n",
    "<style>\n",
    "img{\n",
    "width:75px; }\n",
    "table{\n",
    "width:50%; }\n",
    "td{\n",
    "margin:10px;\n",
    "padding:10px; }\n",
    ".wrapper{\n",
    "width:800px; }\n",
    ".excitingNote{\n",
    "font\n",
    "\n",
    "-style:italic;\n",
    "\n",
    "font\n",
    "\n",
    "-weight:bold;\n",
    "\n",
    "}\n",
    "</style>\n",
    "</head>\n",
    "'''\n",
    "style_tag = soup.style # style보다 위에 있는 부모를 찾아옴\n",
    "print\n",
    "(style_tag.parent\n",
    ")"
   ]
  },
  {
   "cell_type": "code",
   "execution_count": 44,
   "metadata": {},
   "outputs": [
    {
     "name": "stdout",
     "output_type": "stream",
     "text": [
      "\n",
      "$15.00\n",
      "\n"
     ]
    }
   ],
   "source": [
    "img1 = soup.find('img', {'src': '../img/gifts/img1.jpg'})\n",
    "text = img1.parent.previous_sibling.get_text()\n",
    "print(text)\n",
    "# • parent: 부모 tag를 먼저 검색(<td>)\n",
    "# • previous_sibling: 부모 태그의 이전 형제 태그 검색\n",
    "# • get_text(): 태그 내부의 문자열 반환"
   ]
  },
  {
   "cell_type": "code",
   "execution_count": 45,
   "metadata": {},
   "outputs": [
    {
     "name": "stdout",
     "output_type": "stream",
     "text": [
      "None\n",
      "<re.Match object; span=(7, 12), match='apple'>\n",
      "<re.Match object; span=(0, 6), match='python'>\n",
      "<re.Match object; span=(2, 6), match='like'>\n"
     ]
    }
   ],
   "source": [
    "# 정규 표현식 객체 사용:\n",
    "# • 정규식 객체를 생성: compile(pattern)\n",
    "# – 동일 패턴을 여러 번 검색하는 경우, 편리하게 사용\n",
    "# – re모듈 함수들은 pattern 파라미터 없이 호출이 가능\n",
    "# Ø search(string, pos), match(string, pos) 등\n",
    "import re\n",
    "# compile() 사용 안함\n",
    "m = re.match('[a-z]+', 'Python') # 정규식 객체를 생성을 안하여 매번 패턴을 입력해야한다\n",
    "print(m) # 처음부터 대문자가 있어서 None 출력\n",
    "print(re.search('apple', 'I like apple!'))\n",
    "# compile() 사용\n",
    "p = re.compile('[a-z]+') # 알파벳 소문자 # 정규식 객체 p 생성\n",
    "m = p.match('python') # 여러번 사용\n",
    "print(m)\n",
    "print(p.search('I like apple 123'))"
   ]
  },
  {
   "cell_type": "code",
   "execution_count": 46,
   "metadata": {},
   "outputs": [
    {
     "name": "stdout",
     "output_type": "stream",
     "text": [
      "<re.Match object; span=(0, 5), match='pytho'>\n"
     ]
    }
   ],
   "source": [
    "m = re.match('[a-z]+', 'pythoN') # 소문자가 1개 이상\n",
    "print(m)"
   ]
  },
  {
   "cell_type": "code",
   "execution_count": 47,
   "metadata": {},
   "outputs": [
    {
     "name": "stdout",
     "output_type": "stream",
     "text": [
      "None\n"
     ]
    }
   ],
   "source": [
    "m = re.match('[a-z]+', 'PYthon') # 소문자가 1개 이상\n",
    "print(m)"
   ]
  },
  {
   "cell_type": "code",
   "execution_count": 48,
   "metadata": {},
   "outputs": [
    {
     "name": "stdout",
     "output_type": "stream",
     "text": [
      "<re.Match object; span=(0, 5), match='regex'>\n",
      "None\n",
      "<re.Match object; span=(0, 10), match='regexpytho'>\n",
      "None\n",
      "<re.Match object; span=(0, 5), match='regex'>\n",
      "<re.Match object; span=(0, 11), match='regexpython'>\n"
     ]
    }
   ],
   "source": [
    "print(re.match('[a-z]+', 'regex python'))\n",
    "print(re.match('[a-z]+', ' regexpython')) # 문자열 처음에 공백 포함\n",
    "print(re.match('[a-z]+', 'regexpythoN'))\n",
    "print(re.match('[a-z]+$', 'regexpythoN')) # 문자열의 마지막 부분이 소문자가 아님\n",
    "print(re.match('[a-z]+', 'regexPython'))\n",
    "print(re.match('[a-z]+$', 'regexpython'))"
   ]
  },
  {
   "cell_type": "code",
   "execution_count": 49,
   "metadata": {},
   "outputs": [
    {
     "name": "stdout",
     "output_type": "stream",
     "text": [
      "['life', 'is', 'too', 'short', 'egular', 'expression', 'test']\n"
     ]
    }
   ],
   "source": [
    "# § findall() 함수\n",
    "# • 일치하는 모든 문자열을 리스트로 리턴\n",
    "p = re.compile('[a-z]+') # 알파벳 소문자\n",
    "print(p.findall('life is too short! Regular expression test'))"
   ]
  },
  {
   "cell_type": "code",
   "execution_count": 50,
   "metadata": {},
   "outputs": [
    {
     "name": "stdout",
     "output_type": "stream",
     "text": [
      "<re.Match object; span=(2, 6), match='like'>\n",
      "like\n",
      "['like', 'apple']\n"
     ]
    }
   ],
   "source": [
    "# search() 함수\n",
    "# • 일치하는 첫 번째 문자열만 리턴\n",
    "result = p.search('I like apple 123')\n",
    "print(result)\n",
    "print(result.group()) # group(): 일치하는 전체 문자열 리턴\n",
    "result = p.findall('I like apple 123')\n",
    "print(result)"
   ]
  },
  {
   "cell_type": "code",
   "execution_count": 51,
   "metadata": {},
   "outputs": [
    {
     "name": "stdout",
     "output_type": "stream",
     "text": [
      "<re.Match object; span=(0, 11), match='02-123-4567'>\n",
      "None\n",
      "None\n"
     ]
    }
   ],
   "source": [
    "# § 전화번호 분석\n",
    "# • 전화번호:\n",
    "\n",
    "# ‘지역번호-국번-전화번호’\n",
    "# – 전화번호: (2, 3자리)-(3, 4자리)-(4자리)\n",
    "# – 예: 02-123-4567, 053-123-1234\n",
    "import re\n",
    "# ^ .. $ 을 명시해야 정확한 자리수 검사가 이루어짐\n",
    "tel_checker = re.compile('^(\\d{2,3})-(\\d{3,4})-(\\d{4})$')\n",
    "print(tel_checker.match('02-123-4567'))\n",
    "print(tel_checker.match('053-950-45678')) # 마지막 숫자의 자리수가 맞지 않음\n",
    "print(tel_checker.match('053950-4567')) # dash(-)가 없음"
   ]
  },
  {
   "cell_type": "markdown",
   "metadata": {},
   "source": [
    "# 명노아 바보 사람이 어떻게 명노아 스껄스껄 스껄한 하루 되세요~ 쏯쏯"
   ]
  },
  {
   "cell_type": "markdown",
   "metadata": {},
   "source": [
    "명노아 메롱 수업시간에 졸면 꿀밤 오백대다 !!!!!!!!!!!!!!!!"
   ]
  },
  {
   "cell_type": "code",
   "execution_count": 52,
   "metadata": {},
   "outputs": [
    {
     "name": "stdout",
     "output_type": "stream",
     "text": [
      "0539504567\n",
      "<re.Match object; span=(0, 10), match='0539504567'>\n",
      "<re.Match object; span=(0, 10), match='0239501234'>\n"
     ]
    }
   ],
   "source": [
    "#전화번호에서 dash(-) 제거하고 검사하기\n",
    "tel_number = '053-950-4567'\n",
    "tel_number = tel_number.replace('-', '')\n",
    "print(tel_number)\n",
    "tel_checker1 = re.compile('^(\\d{2,3})(\\d{3,4})(\\d{4})$')\n",
    "print(tel_checker1.match(tel_number))\n",
    "print(tel_checker1.match('0239501234')) # 02-3950-1234"
   ]
  },
  {
   "cell_type": "code",
   "execution_count": 53,
   "metadata": {},
   "outputs": [
    {
     "name": "stdout",
     "output_type": "stream",
     "text": [
      "('02', '123', '4567')\n",
      "group():  02-123-4567\n",
      "group(0):  02-123-4567\n",
      "group(1):  02\n",
      "group(2,3):  ('123', '4567')\n",
      "start():  0\n",
      "end():  11\n"
     ]
    }
   ],
   "source": [
    "# § groups()\n",
    "# • 매칭 결과를 튜플로 출력\n",
    "# § group()\n",
    "# • 매칭된 전체 문자열 반환\n",
    "# § group(index)\n",
    "# • 해당 인덱스에 매칭된 문자열 반환\n",
    "# • index=0: 전체 리턴\n",
    "tel_checker = re.compile('^(\\d{2,3})-(\\d{3,4})-(\\d{4})$')\n",
    "m = tel_checker.match('02-123-4567')\n",
    "print(m.groups())\n",
    "print('group(): ', m.group())\n",
    "print('group(0): ', m.group(0))\n",
    "print('group(1): ', m.group(1))\n",
    "print('group(2,3): ', m.group(2,3))\n",
    "print('start(): ', m.start()) # 매칭된 문자열의 시작 인덱스\n",
    "print('end(): ', m.end()) # 매칭된 문자열의 마지막 인덱스+1"
   ]
  },
  {
   "cell_type": "code",
   "execution_count": 54,
   "metadata": {},
   "outputs": [
    {
     "name": "stdout",
     "output_type": "stream",
     "text": [
      "<re.Match object; span=(0, 12), match='010-123-4567'>\n",
      "<re.Match object; span=(0, 13), match='019-1234-5678'>\n",
      "None\n",
      "None\n"
     ]
    }
   ],
   "source": [
    "# § 휴대전화번호\n",
    "# • 휴대전화번호 구성:\n",
    "\n",
    "# ‘사업자번호(3자리)-국번(3,4자리)-전화번호(4자리)’\n",
    "\n",
    "# – 사업자 번호: 010, 011, 016, 017, 018, 019\n",
    "# – 예: 010-123-4567, 011-1234-5678, 019-111-2222\n",
    "\n",
    "# • (?:0|1|[6-9]) 의미\n",
    "# – ?: 뒤에 따라 나오는 숫자(0|1|6|7|8|9)를 하나의 그룹으로 합침\n",
    "cell_phone = re.compile('^(01(?:0|1|[6-9]))-(\\d{3,4})-(\\d{4})$')\n",
    "print(cell_phone.match('010-123-4567'))\n",
    "print(cell_phone.match('019-1234-5678'))\n",
    "print(cell_phone.match('001-123-4567'))\n",
    "print(cell_phone.match('010-1234567'))"
   ]
  },
  {
   "cell_type": "code",
   "execution_count": 62,
   "metadata": {},
   "outputs": [
    {
     "name": "stdout",
     "output_type": "stream",
     "text": [
      "1000 \n",
      "<re.Match object; span=(0, 11), match='2023-01-26 '>\n",
      "<re.Match object; span=(9, 13), match='5678'>\n"
     ]
    }
   ],
   "source": [
    "# § 전방 긍정 탐색\n",
    "# • 패턴과 일치하는 문자열을 만나면 패턴 앞의 문자열 반환: (?=패턴)\n",
    "\n",
    "# § 전방 부정 탐색\n",
    "# • 패턴과 일치하지 않는 문자열을 만나면 패턴 앞의 문자열 반환: (?!패턴)\n",
    "\n",
    "import re\n",
    "# 전방 긍정 탐색: (문자열이 won을 포함하고 있으면 won 앞의 문자열 리턴)\n",
    "lookahead1 = re.search('.+(?=won)', '1000 won')\n",
    "if(lookahead1 != None):\n",
    "    print(lookahead1.group())\n",
    "else:\n",
    "    print('None')\n",
    "lookahead2 = re.search('.+(?=am)', '2023-01-26 am 10:00:01')\n",
    "print(lookahead2)\n",
    "# 전방 부정 탐색 (?!): 4자리 숫자 다음에 '-'를 포함하지 않으면 앞의 문자열 리턴\n",
    "lookahead3 = re.search('\\d{4}(?!-)', '010-1234-5678')\n",
    "print(lookahead3)"
   ]
  },
  {
   "cell_type": "code",
   "execution_count": 69,
   "metadata": {},
   "outputs": [
    {
     "name": "stdout",
     "output_type": "stream",
     "text": [
      "<re.Match object; span=(13, 22), match=' 11:10:01'>\n",
      "<re.Match object; span=(4, 8), match=' $51'>\n",
      "<re.Match object; span=(15, 18), match='100'>\n"
     ]
    }
   ],
   "source": [
    "# § 후방 긍정 탐색\n",
    "# • 패턴과 일치하는 문자열을 만나면 패턴 뒤의 문자열 반환: (?<=패턴)\n",
    "\n",
    "# § 후방 부정 탐색\n",
    "# • 패턴과 일치하지 않는 문자열을 만나면 패턴 뒤의 문자열 반환: (?<!패턴)\n",
    "# 후방 긍정 탐색 ('am' 다음에 문자가 1개 이상 있으면, 해당 문자열 리턴)\n",
    "lookbehind1 = re.search('(?<=am).+', '2023-01-26 am 11:10:01')\n",
    "print(lookbehind1)\n",
    "lookbehind2 = re.search('(?<=:).+', 'USD: $51')\n",
    "print(lookbehind2)\n",
    "# 후방 부정 탐색('\\b': 공백)\n",
    "# 공백 다음에 $기호가 없고 숫자가 1개 이상이고 공백이 있는 경우\n",
    "lookbehind4 = re.search(r'\\b(?<!\\$)\\d+\\b', 'I paid $30 for 100 apples.')\n",
    "print(lookbehind4)"
   ]
  },
  {
   "cell_type": "code",
   "execution_count": 70,
   "metadata": {},
   "outputs": [
    {
     "name": "stdout",
     "output_type": "stream",
     "text": [
      "<img src=\"../img/gifts/img1.jpg\"/> -> ['src'] 속성: ../img/gifts/img1.jpg\n",
      "<img src=\"../img/gifts/img2.jpg\"/> -> ['src'] 속성: ../img/gifts/img2.jpg\n",
      "<img src=\"../img/gifts/img3.jpg\"/> -> ['src'] 속성: ../img/gifts/img3.jpg\n",
      "<img src=\"../img/gifts/img4.jpg\"/> -> ['src'] 속성: ../img/gifts/img4.jpg\n",
      "<img src=\"../img/gifts/img6.jpg\"/> -> ['src'] 속성: ../img/gifts/img6.jpg\n"
     ]
    }
   ],
   "source": [
    "# chap03_regex02.py\n",
    "# BeautifulSoup의 문자열을 받는 함수들\n",
    "# • 정규 표현식을 매개 변수로 받을 수 있음\n",
    "# § 제품 이미지 검색:\n",
    "# • <img src=“...”> 태그의 속성[‘\n",
    "\n",
    "# src’] 사용\n",
    "from urllib.request import urlopen\n",
    "from bs4 import BeautifulSoup\n",
    "import re\n",
    "html = urlopen('http://www.pythonscraping.com/pages/page3.html')\n",
    "soup = BeautifulSoup(html, 'html.parser')\n",
    "# 정규식: ('img.*\\.jpg'): img 다음에 임의의 한 문자가 0회 이상\n",
    "# - img.jpg, img1.jpg, imga.jpg 등\n",
    "img_tag = re.compile('/img/gifts/img.*.jpg')\n",
    "# find_all()에서 img의 src 속성값에 정규식 사용\n",
    "images = soup.find_all('img', {'src': img_tag})\n",
    "for image in images:\n",
    "    print(image, end=\" -> ['src'] 속성: \")\n",
    "    print(image['src'])"
   ]
  },
  {
   "cell_type": "code",
   "execution_count": 73,
   "metadata": {},
   "outputs": [
    {
     "name": "stdout",
     "output_type": "stream",
     "text": [
      "the prince count:  7\n",
      "T|the prince count: 11\n"
     ]
    }
   ],
   "source": [
    "# § 대소문자 구분없이 특정 단어 검색\n",
    "# • ‘[T|t]{1}he prince’\n",
    "# – T 또는 t가 1회\n",
    "from urllib.request import urlopen\n",
    "from bs4 import BeautifulSoup\n",
    "import re\n",
    "html = urlopen('http://www.pythonscraping.com/pages/warandpeace.html')\n",
    "bs = BeautifulSoup(html, 'html.parser')\n",
    "princeList = bs.find_all(string='the prince')\n",
    "print('the prince count: ', len(princeList))\n",
    "prince_list = bs.find_all(string=re.compile('[T|t]{1}he prince')) # 바로 정규식을 집어넣었다\n",
    "print('T|the prince count:', len(prince_list))"
   ]
  },
  {
   "cell_type": "code",
   "execution_count": null,
   "metadata": {},
   "outputs": [],
   "source": []
  }
 ],
 "metadata": {
  "kernelspec": {
   "display_name": "My_38",
   "language": "python",
   "name": "python3"
  },
  "language_info": {
   "codemirror_mode": {
    "name": "ipython",
    "version": 3
   },
   "file_extension": ".py",
   "mimetype": "text/x-python",
   "name": "python",
   "nbconvert_exporter": "python",
   "pygments_lexer": "ipython3",
   "version": "3.8.18"
  }
 },
 "nbformat": 4,
 "nbformat_minor": 2
}
