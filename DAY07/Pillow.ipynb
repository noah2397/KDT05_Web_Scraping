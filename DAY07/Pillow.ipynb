{
 "cells": [
  {
   "cell_type": "code",
   "execution_count": 1,
   "metadata": {},
   "outputs": [
    {
     "name": "stdout",
     "output_type": "stream",
     "text": [
      "PIL 10.2.0\n"
     ]
    }
   ],
   "source": [
    "import PIL\n",
    "print(\"PIL \" + PIL.__version__)"
   ]
  },
  {
   "cell_type": "code",
   "execution_count": 1,
   "metadata": {},
   "outputs": [
    {
     "name": "stdout",
     "output_type": "stream",
     "text": [
      "(512, 512)\n",
      "PNG\n"
     ]
    }
   ],
   "source": [
    "from PIL import Image\n",
    "img = Image.open('Lenna.png')\n",
    "print(img.size) # 사이즈 출력\n",
    "print(img.format) # 포맷 형식 출력\n",
    "img.show() # 이미지 파일 열기"
   ]
  },
  {
   "cell_type": "code",
   "execution_count": 2,
   "metadata": {},
   "outputs": [],
   "source": [
    "from PIL import Image\n",
    "img = Image.open('Lenna.png')\n",
    "# 이미지 부분 잘라내기\n",
    "# crop(left, upper, right, lower)\n",
    "area = (100, 100, 320, 320)\n",
    "cropImage = img.crop(area)\n",
    "img.show() # 원본 이미지 화면 출력\n",
    "cropImage.show() # 잘려진 이미지(cropped image) 화면 출력"
   ]
  },
  {
   "cell_type": "code",
   "execution_count": 3,
   "metadata": {},
   "outputs": [],
   "source": [
    "from PIL import Image\n",
    "img = Image.open('Lenna.png')\n",
    "size = (64, 64)\n",
    "img.thumbnail(size) # Thumbnail 이미지 생성 -> 썸네일\n",
    "img.save('Lenna-thumb.png') # Thumbnail을 저장함\n",
    "img.show()"
   ]
  },
  {
   "cell_type": "code",
   "execution_count": 4,
   "metadata": {},
   "outputs": [],
   "source": [
    "from PIL import Image\n",
    "img1 = Image.open('Lenna.png')\n",
    "img2 = img1.resize((300, 300)) # tuple 형태의 크기(가로 크기, 세로 크기)\n",
    "img2.save('Lenna_300.png') # 이미지 저장\n",
    "img3 = img1.rotate(90) # counter-clockwise (반시계방향)\n",
    "img3.save('Lenna_rotate.png')\n",
    "img3.show()"
   ]
  },
  {
   "cell_type": "code",
   "execution_count": 7,
   "metadata": {},
   "outputs": [],
   "source": [
    "from PIL import Image\n",
    "img = Image.open('Lenna.png')\n",
    "mirrorImage = img.transpose(Image.FLIP_LEFT_RIGHT) # y축을 기준으로 x값 이동\n",
    "mirrorImage.save('Lenna-mirror.png')\n",
    "mirrorImage.show()\n",
    "img1 = Image.open('newyork.jpg')\n",
    "flipx_image = img1.transpose(Image.FLIP_TOP_BOTTOM) # x축을 기준으로 y값 이동\n",
    "flipx_image.save('newyork_flipx.jpg')\n",
    "flipx_image.show()"
   ]
  },
  {
   "cell_type": "code",
   "execution_count": 8,
   "metadata": {},
   "outputs": [],
   "source": [
    "from PIL import Image, ImageFilter\n",
    "img = Image.open('Lenna.png')\n",
    "contourImage = img.filter(ImageFilter.CONTOUR)\n",
    "contourImage.save('Lenna-contour.png')\n",
    "contourImage.show()\n",
    "blurImage = img.filter(ImageFilter.BLUR)\n",
    "blurImage.save('Lenna-blur.png')\n",
    "blurImage.show()\n",
    "embossImage = img.filter(ImageFilter.EMBOSS)\n",
    "embossImage.save('Lenna-emboss.png')\n",
    "embossImage.show()"
   ]
  },
  {
   "cell_type": "code",
   "execution_count": 9,
   "metadata": {},
   "outputs": [
    {
     "name": "stdout",
     "output_type": "stream",
     "text": [
      "RGB\n"
     ]
    }
   ],
   "source": [
    "from PIL import Image\n",
    "new_york = Image.open('newyork.jpg')\n",
    "print(new_york.mode)\n",
    "# 이미지의 R, G, B를 분리함\n",
    "r, g, b = new_york.split()\n",
    "r.save('newyork_r.jpg')\n",
    "g.save('newyork_g.jpg')\n",
    "b.save('newyork_b.jpg')\n",
    "r.show()\n",
    "g.show()\n",
    "b.show()"
   ]
  },
  {
   "cell_type": "code",
   "execution_count": 10,
   "metadata": {},
   "outputs": [],
   "source": [
    "from PIL import Image\n",
    "# 컬러 이미지를 그레이 스케일 이미지로 변환하는 함수\n",
    "def convert_grayscale(image):\n",
    "    width, height = image.size\n",
    "    # Image.new(mode, size, color)\n",
    "    new_image = Image.new(\"RGB\", (width, height), \"white\")\n",
    "    for i in range(width):\n",
    "        for j in range(height):\n",
    "            pixel = image.getpixel((i, j)) # 튜플 (x, y)인덱스의 pixel값 반환\n",
    "            #print(pixel) #(223,136,126)\n",
    "            # PIXEL의 R, G, B 값을 얻음(0 ~ 255 사이)\n",
    "\n",
    "            red = pixel[0]\n",
    "            green = pixel[1]\n",
    "            blue = pixel[2]\n",
    "            # 공식을 이용하여 그레이 스케일 값으로 변경\n",
    "            gray = (red*0.299) + (green*0.587) + (blue*0.114)\n",
    "            # 새로운 이미지에 저장 (x, y 튜플 타입 사용)\n",
    "            new_image.putpixel((i, j), (int(gray), int(gray), int(gray)))\n",
    "    return new_image\n",
    "original = Image.open('Lenna.jpg')\n",
    "output = convert_grayscale(original)\n",
    "output.save('Lenna_gray.png')\n",
    "output.show()"
   ]
  },
  {
   "cell_type": "code",
   "execution_count": null,
   "metadata": {},
   "outputs": [],
   "source": []
  }
 ],
 "metadata": {
  "kernelspec": {
   "display_name": "My_38",
   "language": "python",
   "name": "python3"
  },
  "language_info": {
   "codemirror_mode": {
    "name": "ipython",
    "version": 3
   },
   "file_extension": ".py",
   "mimetype": "text/x-python",
   "name": "python",
   "nbconvert_exporter": "python",
   "pygments_lexer": "ipython3",
   "version": "3.8.18"
  }
 },
 "nbformat": 4,
 "nbformat_minor": 2
}
