{
 "cells": [
  {
   "cell_type": "code",
   "execution_count": 85,
   "metadata": {},
   "outputs": [],
   "source": [
    "import csv\n",
    "from urllib.request import urlopen\n",
    "from bs4 import BeautifulSoup\n",
    "from html_table_parser import parser_functions as parse\n",
    "import pandas as pd\n",
    "from time import sleep\n",
    "from selenium import webdriver\n",
    "from webdriver_manager.chrome import ChromeDriverManager\n",
    "from selenium.webdriver.common.by import By\n",
    "import time\n",
    "\n",
    "# https://finance.naver.com/sise/sise_market_sum.naver"
   ]
  },
  {
   "cell_type": "code",
   "execution_count": 87,
   "metadata": {},
   "outputs": [
    {
     "data": {
      "text/plain": [
       "[['삼성전자', '/item/main.naver?code=005930'],\n",
       " ['SK하이닉스', '/item/main.naver?code=000660'],\n",
       " ['LG에너지솔루션', '/item/main.naver?code=373220'],\n",
       " ['삼성바이오로직스', '/item/main.naver?code=207940'],\n",
       " ['현대차', '/item/main.naver?code=005380'],\n",
       " ['삼성전자우', '/item/main.naver?code=005935'],\n",
       " ['기아', '/item/main.naver?code=000270'],\n",
       " ['셀트리온', '/item/main.naver?code=068270'],\n",
       " ['POSCO홀딩스', '/item/main.naver?code=005490'],\n",
       " ['NAVER', '/item/main.naver?code=035420']]"
      ]
     },
     "execution_count": 87,
     "metadata": {},
     "output_type": "execute_result"
    }
   ],
   "source": [
    "html=urlopen(\"https://finance.naver.com/sise/sise_market_sum.naver\")\n",
    "soup=BeautifulSoup(html,\"html.parser\")\n",
    "bs=soup.select_one(\"#contentarea > div.box_type_l > table.type_2 > tbody\")\n",
    "bs2=bs.select(\"tr\")\n",
    "\n",
    "info=[]\n",
    "for i in range(1,14) :\n",
    "    if i in [6,7,8] :\n",
    "        continue\n",
    "    info.append([bs2[i].select(\"a\")[0].text, bs2[i].select(\"a\")[1].get(\"href\").replace('board','main')])\n",
    "\n",
    "\n"
   ]
  },
  {
   "cell_type": "code",
   "execution_count": 90,
   "metadata": {},
   "outputs": [
    {
     "name": "stdout",
     "output_type": "stream",
     "text": [
      "==================================================\n",
      "[ 네이버 코스피 상위 10대 기업 목록 ]\n",
      "==================================================\n",
      "[ 0] 삼성전자\n",
      "[ 1] SK하이닉스\n",
      "[ 2] LG에너지솔루션\n",
      "[ 3] 삼성바이오로직스\n",
      "[ 4] 현대차\n",
      "[ 5] 삼성전자우\n",
      "[ 6] 기아\n",
      "[ 7] 셀트리온\n",
      "[ 8] POSCO홀딩스\n",
      "[ 9] NAVER\n"
     ]
    }
   ],
   "source": [
    "print(\"=\"*50)\n",
    "print(\"[ 네이버 코스피 상위 10대 기업 목록 ]\")\n",
    "print(\"=\"*50)\n",
    "for i,v in enumerate(info) :\n",
    "    print(f\"[{i+1:>2}] {v[0]}\")"
   ]
  },
  {
   "cell_type": "code",
   "execution_count": 91,
   "metadata": {},
   "outputs": [
    {
     "name": "stdout",
     "output_type": "stream",
     "text": [
      "https://finance.naver.com/item/main.naver?code=005930\n",
      "종목명 : 誌失穿切\n",
      "종목코드 : 005930\n",
      "현재가 : 75,200\n",
      "전일가 : 74,100\n",
      "시가 : 74,800\n",
      "고가 : 75,200\n",
      "저가 : 74,400\n",
      "https://finance.naver.com/item/main.naver?code=000660\n",
      "종목명 : SK하이닉스\n",
      "종목코드 : 000660\n",
      "현재가 : 150,000\n",
      "전일가 : 142,800\n",
      "시가 : 146,800\n",
      "고가 : 150,000\n",
      "저가 : 145,000\n",
      "https://finance.naver.com/item/main.naver?code=005930\n",
      "종목명 : 삼성전자\n",
      "종목코드 : 005930\n",
      "현재가 : 75,200\n",
      "전일가 : 74,100\n",
      "시가 : 74,800\n",
      "고가 : 75,200\n",
      "저가 : 74,400\n",
      "https://finance.naver.com/item/main.naver?code=373220\n",
      "종목명 : LG에너지솔루션\n",
      "종목코드 : 373220\n",
      "현재가 : 393,500\n",
      "전일가 : 394,000\n",
      "시가 : 395,000\n",
      "고가 : 395,500\n",
      "저가 : 390,000\n"
     ]
    },
    {
     "ename": "ValueError",
     "evalue": "invalid literal for int() with base 10: ''",
     "output_type": "error",
     "traceback": [
      "\u001b[1;31m---------------------------------------------------------------------------\u001b[0m",
      "\u001b[1;31mValueError\u001b[0m                                Traceback (most recent call last)",
      "Cell \u001b[1;32mIn[91], line 2\u001b[0m\n\u001b[0;32m      1\u001b[0m \u001b[38;5;28;01mwhile\u001b[39;00m \u001b[38;5;28;01mTrue\u001b[39;00m :\n\u001b[1;32m----> 2\u001b[0m     value \u001b[38;5;241m=\u001b[39m \u001b[38;5;28;43mint\u001b[39;49m\u001b[43m(\u001b[49m\u001b[38;5;28;43minput\u001b[39;49m\u001b[43m(\u001b[49m\u001b[38;5;124;43m\"\u001b[39;49m\u001b[38;5;124;43m주가를 검색할 기업의 번호를 입력하세요(-1: 종료):\u001b[39;49m\u001b[38;5;124;43m\"\u001b[39;49m\u001b[43m)\u001b[49m\u001b[43m)\u001b[49m\n\u001b[0;32m      3\u001b[0m     \u001b[38;5;28;01mif\u001b[39;00m value\u001b[38;5;241m==\u001b[39m\u001b[38;5;241m-\u001b[39m\u001b[38;5;241m1\u001b[39m :\n\u001b[0;32m      4\u001b[0m         \u001b[38;5;28;01mbreak\u001b[39;00m\n",
      "\u001b[1;31mValueError\u001b[0m: invalid literal for int() with base 10: ''"
     ]
    }
   ],
   "source": [
    "while True :\n",
    "    value = int(input(\"주가를 검색할 기업의 번호를 입력하세요(-1: 종료):\"))\n",
    "    if value==-1 :\n",
    "        break\n",
    "    url=f\"https://finance.naver.com{info[value-1][1]}\"\n",
    "    print(url)\n",
    "    html=urlopen(url)\n",
    "    soup=BeautifulSoup(html,\"html.parser\")\n",
    "    print(\"종목명 : \" + soup.select_one(\"#middle > div.h_company > div.wrap_company > h2 > a\").text) # 사명\n",
    "    print(\"종목코드 : \"+soup.select_one(\"#middle > div.h_company > div.wrap_company > div > span.code\").text)\n",
    "    print(\"현재가 : \"+soup.select_one(\"div > p.no_today > em > .blind\").text) # 현재주가\n",
    "    data = soup.select(\"#chart_area > div.rate_info > table > tr\")\n",
    "    data2 = data[0].select(\"span.blind\")\n",
    "    data3 = data[1].select(\"span.blind\")\n",
    "    print(\"전일가 : \" + data2[0].text)# 전일\n",
    "    print(\"시가 : \"+data3[0].text)# 시가\n",
    "    print(\"고가 : \" +data2[1].text)# 고가\n",
    "    print(\"저가 : \"+data3[1].text)# 저가"
   ]
  },
  {
   "cell_type": "code",
   "execution_count": 88,
   "metadata": {},
   "outputs": [
    {
     "name": "stdout",
     "output_type": "stream",
     "text": [
      "https://finance.naver.com/item/main.naver?code=005930\n"
     ]
    }
   ],
   "source": [
    "\n",
    "\n",
    "\n",
    "\n"
   ]
  },
  {
   "cell_type": "code",
   "execution_count": 89,
   "metadata": {},
   "outputs": [
    {
     "name": "stdout",
     "output_type": "stream",
     "text": [
      "삼성전자\n",
      "005930\n",
      "75,200\n",
      "74,100\n",
      "75,200\n",
      "74,800\n",
      "74,400\n"
     ]
    }
   ],
   "source": []
  },
  {
   "cell_type": "code",
   "execution_count": null,
   "metadata": {},
   "outputs": [],
   "source": []
  }
 ],
 "metadata": {
  "kernelspec": {
   "display_name": "My_38",
   "language": "python",
   "name": "python3"
  },
  "language_info": {
   "codemirror_mode": {
    "name": "ipython",
    "version": 3
   },
   "file_extension": ".py",
   "mimetype": "text/x-python",
   "name": "python",
   "nbconvert_exporter": "python",
   "pygments_lexer": "ipython3",
   "version": "3.8.18"
  }
 },
 "nbformat": 4,
 "nbformat_minor": 2
}
